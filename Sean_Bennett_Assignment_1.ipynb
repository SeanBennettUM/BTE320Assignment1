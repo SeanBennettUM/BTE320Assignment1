{
  "nbformat": 4,
  "nbformat_minor": 0,
  "metadata": {
    "colab": {
      "provenance": []
    },
    "kernelspec": {
      "name": "python3",
      "display_name": "Python 3"
    },
    "language_info": {
      "name": "python"
    }
  },
  "cells": [
    {
      "cell_type": "markdown",
      "source": [
        "Dictionary with two variables(1-12 + Months)"
      ],
      "metadata": {
        "id": "PiYooUoXJYNU"
      }
    },
    {
      "cell_type": "code",
      "source": [
        "month_dict = {}\n",
        "\n",
        "months = ['January', 'February', 'March', 'April', 'May', 'June',\n",
        "          'July', 'August', 'September', 'October', 'November', 'December']\n",
        "\n",
        "for i in range(1, 13):\n",
        "    month_dict[i] = months[i - 1]\n",
        "\n",
        "print(\"Dictionary:\")\n",
        "print(month_dict)\n",
        "\n"
      ],
      "metadata": {
        "colab": {
          "base_uri": "https://localhost:8080/"
        },
        "id": "i54XWx3RJWz4",
        "outputId": "ab2ff729-240d-4e5d-92ff-2dc858052e3f"
      },
      "execution_count": null,
      "outputs": [
        {
          "output_type": "stream",
          "name": "stdout",
          "text": [
            "Dictionary:\n",
            "{1: 'January', 2: 'February', 3: 'March', 4: 'April', 5: 'May', 6: 'June', 7: 'July', 8: 'August', 9: 'September', 10: 'October', 11: 'November', 12: 'December'}\n"
          ]
        }
      ]
    },
    {
      "cell_type": "markdown",
      "source": [
        "Rock Paper Scissors Problem"
      ],
      "metadata": {
        "id": "MeNlu0iPL35m"
      }
    },
    {
      "cell_type": "code",
      "execution_count": 6,
      "metadata": {
        "id": "RUNXTJLlLox7",
        "colab": {
          "base_uri": "https://localhost:8080/"
        },
        "outputId": "8e86b286-dda6-4ffa-cff3-2c803b1e1a40"
      },
      "outputs": [
        {
          "output_type": "stream",
          "name": "stdout",
          "text": [
            "Enter your choice (rock, paper, or scissors): rock\n",
            "You chose: rock\n",
            "Computer chose: rock\n",
            "It's a tie!\n"
          ]
        }
      ],
      "source": [
        "import random\n",
        "\n",
        "user_choice = input(\"Enter your choice (rock, paper, or scissors): \")\n",
        "computer_choice = random.choice([\"rock\", \"paper\", \"scissors\"])\n",
        "\n",
        "print(f\"You chose: {user_choice}\")\n",
        "print(f\"Computer chose: {computer_choice}\")\n",
        "\n",
        "if user_choice == computer_choice:\n",
        "    print(\"It's a tie!\")\n",
        "elif (\n",
        "    (user_choice == \"rock\" and computer_choice == \"scissors\") or\n",
        "    (user_choice == \"paper\" and computer_choice == \"rock\") or\n",
        "    (user_choice == \"scissors\" and computer_choice == \"paper\")\n",
        "):\n",
        "    print(\"You win!\")\n",
        "else:\n",
        "    print(\"Computer wins!\")"
      ]
    },
    {
      "cell_type": "markdown",
      "source": [
        "Below is the Morgage in class activity"
      ],
      "metadata": {
        "id": "XI6Ua9RKMNDr"
      }
    },
    {
      "cell_type": "code",
      "source": [
        "class Mortgage:\n",
        "   def __init__(self, amount, maturity, interest):\n",
        "      self.amount = amount\n",
        "      self.maturity = maturity\n",
        "      self.__interest = interest\n",
        "\n",
        "   def __str__(self):\n",
        "    return f'Mortgage info:\\n Initial loan amount: {self.amount}\\n Maturity term: {self.maturity}\\n Interest rate: {self.__interest} '\n",
        "\n",
        "   def get_interest(self):\n",
        "    return self.__interest\n",
        "   def set_interest(self, newInterest):\n",
        "     if newInterest >= 0:\n",
        "      self.__interest = newInterest\n",
        "     else:\n",
        "      print('Interest must be non-negative!')\n",
        "\n",
        "   def payment(self):\n",
        "    B = self.amount\n",
        "    n = self.maturity * 12\n",
        "    r = self.__interest /100\n",
        "\n",
        "    return B * (4 * (1+r) ** n)/ ((1+r) ** n -1)\n",
        "\n",
        "m = Mortgage(10000, 30, 6)\n",
        "print(m)"
      ],
      "metadata": {
        "colab": {
          "base_uri": "https://localhost:8080/"
        },
        "id": "JJKkQ5znMMmf",
        "outputId": "7a0347b4-3eb7-4c9a-cda1-e257a4b0d7a7"
      },
      "execution_count": 7,
      "outputs": [
        {
          "output_type": "stream",
          "name": "stdout",
          "text": [
            "Mortgage info:\n",
            " Initial loan amount: 10000\n",
            " Maturity term: 30\n",
            " Interest rate: 6 \n"
          ]
        }
      ]
    },
    {
      "cell_type": "markdown",
      "source": [
        "This is the Leap Year in class project"
      ],
      "metadata": {
        "id": "E3uM8LLEPErE"
      }
    },
    {
      "cell_type": "code",
      "source": [
        "year = int(input(\"Enter a year: \"))\n",
        "\n",
        "if (year % 4 == 0 and year % 100 != 0) or (year % 400 == 0):\n",
        "    print(f\"{year} is a leap year!\")\n",
        "else:\n",
        "    print(f\"{year} is not a leap year.\")"
      ],
      "metadata": {
        "id": "hOP6s65BPEcP",
        "colab": {
          "base_uri": "https://localhost:8080/"
        },
        "outputId": "302c184d-c9ef-4a41-fbe7-270a7431b67d"
      },
      "execution_count": null,
      "outputs": [
        {
          "output_type": "stream",
          "name": "stdout",
          "text": [
            "Enter a year: 2012\n",
            "2012 is a leap year!\n"
          ]
        }
      ]
    },
    {
      "cell_type": "markdown",
      "source": [
        "\n",
        "Below is the Calculator Problem"
      ],
      "metadata": {
        "id": "ZR7lwCcLP9IW"
      }
    },
    {
      "cell_type": "code",
      "source": [
        "while True:\n",
        "    num1 = input(\"Enter first number: \")\n",
        "    if num1.lower() == 'break':\n",
        "        break\n",
        "\n",
        "    operator = input(\"Enter operator (+, -, *, **, /, //, %) or 'break' to exit: \")\n",
        "    if operator.lower() == 'break':\n",
        "        break\n",
        "\n",
        "    num2 = input(\"Enter second number: \")\n",
        "    if num2.lower() == 'break':\n",
        "        break\n",
        "\n",
        "    try:\n",
        "        num1 = float(num1)\n",
        "        num2 = float(num2)\n",
        "        if operator == '+':\n",
        "            print(\"Result:\", num1 + num2)\n",
        "        elif operator == '-':\n",
        "            print(\"Result:\", num1 - num2)\n",
        "        elif operator == '*':\n",
        "            print(\"Result:\", num1 * num2)\n",
        "        elif operator == '**':\n",
        "            print(\"Result:\", num1 ** num2)\n",
        "        elif operator == '/':\n",
        "            if num2 != 0:\n",
        "                print(\"Result:\", num1 / num2)\n",
        "            else:\n",
        "                print(\"Error: Division by zero\")\n",
        "        elif operator == '//':\n",
        "            if num2 != 0:\n",
        "                print(\"Result:\", num1 // num2)\n",
        "            else:\n",
        "                print(\"Error: Division by zero\")\n",
        "        elif operator == '%':\n",
        "            if num2 != 0:\n",
        "                print(\"Result:\", num1 % num2)\n",
        "            else:\n",
        "                print(\"Error: Modulus by zero\")\n",
        "        else:\n",
        "            print(\"Invalid operator.\")\n",
        "    except ValueError:\n",
        "        print(\"Invalid input. Please enter numerical values.\")\n"
      ],
      "metadata": {
        "id": "N8GAl3aUP9Tf",
        "colab": {
          "base_uri": "https://localhost:8080/"
        },
        "outputId": "ffa45e22-acbc-489b-cbec-af931353ab01"
      },
      "execution_count": 8,
      "outputs": [
        {
          "name": "stdout",
          "output_type": "stream",
          "text": [
            "Enter first number: 5\n",
            "Enter operator (+, -, *, **, /, //, %) or 'break' to exit: *\n",
            "Enter second number: 200\n",
            "Result: 1000.0\n",
            "Enter first number: break\n"
          ]
        }
      ]
    },
    {
      "cell_type": "markdown",
      "source": [
        "Below is the List Creator Problem(using a while loop)"
      ],
      "metadata": {
        "id": "zFJmJrTmjR7u"
      }
    },
    {
      "cell_type": "code",
      "source": [
        "L = []\n",
        "number = int(input('Enter a value: '))\n",
        "while number != 0:\n",
        " L.append(number)\n",
        " number = int(input('Enter a value: '))\n",
        "print(L)"
      ],
      "metadata": {
        "id": "K36cqh72jRwW"
      },
      "execution_count": null,
      "outputs": []
    },
    {
      "cell_type": "markdown",
      "source": [
        "Date Program"
      ],
      "metadata": {
        "id": "rjk1zhlYjrjy"
      }
    },
    {
      "cell_type": "code",
      "source": [
        "date = input('Enter todays date(MM/DD/YYYY) ')\n",
        "month = date[0:2]\n",
        "day = date[3:5]\n",
        "year = date[6:10]\n",
        "print(\"The day is:\", day, \"The month is:\", month,\"The year is:\",year)"
      ],
      "metadata": {
        "id": "BXq21ThqjrXK",
        "colab": {
          "base_uri": "https://localhost:8080/"
        },
        "outputId": "5ba111d9-71f1-4c38-bd38-06353c7559e3"
      },
      "execution_count": 14,
      "outputs": [
        {
          "output_type": "stream",
          "name": "stdout",
          "text": [
            "Enter todays date(MM/DD/YYYY) 11/22/2024\n",
            "The day is: 22 The month is: 11 The year is: 2024\n"
          ]
        }
      ]
    },
    {
      "cell_type": "markdown",
      "source": [
        "Parking Garage Problem"
      ],
      "metadata": {
        "id": "S0ZX0JQTpp3A"
      }
    },
    {
      "cell_type": "code",
      "source": [
        "hours_parked = int(input(\"How many hours did you park? \"))\n",
        "\n",
        "fee = 5 + (2.5 * hours_parked)\n",
        "\n",
        "if fee < 10:\n",
        "    fee = 10\n",
        "elif fee > 20:\n",
        "    fee = 20\n",
        "\n",
        "print(\"Your parking fee is: \", fee)\n",
        "\n"
      ],
      "metadata": {
        "colab": {
          "base_uri": "https://localhost:8080/"
        },
        "id": "tfRMXI7ypprW",
        "outputId": "f2f460c6-01f5-4ae9-c512-54026c34c963"
      },
      "execution_count": 3,
      "outputs": [
        {
          "output_type": "stream",
          "name": "stdout",
          "text": [
            "How many hours did you park? 0\n",
            "Your parking fee is:  10\n"
          ]
        }
      ]
    },
    {
      "cell_type": "markdown",
      "source": [
        "This is the Movie Theater Problem"
      ],
      "metadata": {
        "id": "N9U38RaLrnI4"
      }
    },
    {
      "cell_type": "code",
      "source": [
        "def calculate_additional_attendees(advertising_dollars):\n",
        "    return 2 * (advertising_dollars ** 0.5)\n",
        "\n",
        "def calculate_profit(advertising_dollars):\n",
        "    additional_attendees = calculate_additional_attendees(advertising_dollars)\n",
        "    total_attendees = 20 + additional_attendees\n",
        "    total_income = 10 * total_attendees\n",
        "    total_costs = 200 + advertising_dollars\n",
        "    return total_income - total_costs\n",
        "\n",
        "def generate_table():\n",
        "    print(\"Advertising ($)| Profit\")\n",
        "    for advertising_dollars in range(0, 501, 100):\n",
        "        profit = calculate_profit(advertising_dollars)\n",
        "        print(f\"     {advertising_dollars}       | ${profit}\")\n",
        "\n",
        "generate_table()"
      ],
      "metadata": {
        "colab": {
          "base_uri": "https://localhost:8080/"
        },
        "id": "4bt6sKKvrnBm",
        "outputId": "36d28f4b-f8b4-4e79-c48b-ea0bfc326d08"
      },
      "execution_count": 13,
      "outputs": [
        {
          "output_type": "stream",
          "name": "stdout",
          "text": [
            "Advertising ($)| Profit\n",
            "     0       | $0.0\n",
            "     100       | $100.0\n",
            "     200       | $82.84271247461902\n",
            "     300       | $46.410161513775506\n",
            "     400       | $0.0\n",
            "     500       | $-52.78640450004207\n"
          ]
        }
      ]
    }
  ]
}